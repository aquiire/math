{
 "cells": [
  {
   "cell_type": "markdown",
   "metadata": {
    "slideshow": {
     "slide_type": "slide"
    }
   },
   "source": [
    "I saw it [here](https://www.peeranswer.com/question/592201f5df6bb4ca0ff5e364).\n",
    "\n",
    "## Claim:\n",
    "If $f(n)=n+\\lfloor \\sqrt n\\rfloor$ then the sequence $\\{n,f(n),f(f(n)),\\ldots\\}$ contains a perfect square number.\n",
    "\n",
    "## Python verification\n",
    "\n",
    "Define $f$:"
   ]
  },
  {
   "cell_type": "code",
   "execution_count": 1,
   "metadata": {
    "collapsed": false,
    "slideshow": {
     "slide_type": "slide"
    }
   },
   "outputs": [],
   "source": [
    "f = lambda n:int(n+n**.5)"
   ]
  },
  {
   "cell_type": "markdown",
   "metadata": {
    "slideshow": {
     "slide_type": "slide"
    }
   },
   "source": [
    "Define a function to check if some $n$ is a perfect square"
   ]
  },
  {
   "cell_type": "code",
   "execution_count": 2,
   "metadata": {
    "collapsed": true,
    "slideshow": {
     "slide_type": "slide"
    }
   },
   "outputs": [],
   "source": [
    "isSquare = lambda n:int(n**.5)**2==n"
   ]
  },
  {
   "cell_type": "markdown",
   "metadata": {
    "slideshow": {
     "slide_type": "slide"
    }
   },
   "source": [
    "Sequence generator begin with $n$:"
   ]
  },
  {
   "cell_type": "code",
   "execution_count": 3,
   "metadata": {
    "collapsed": true,
    "slideshow": {
     "slide_type": "slide"
    }
   },
   "outputs": [],
   "source": [
    "seq = lambda n: [n] if isSquare(n) else [n]+seq(f(n))"
   ]
  },
  {
   "cell_type": "markdown",
   "metadata": {
    "slideshow": {
     "slide_type": "slide"
    }
   },
   "source": [
    "Some examples"
   ]
  },
  {
   "cell_type": "code",
   "execution_count": 4,
   "metadata": {
    "collapsed": false,
    "slideshow": {
     "slide_type": "slide"
    }
   },
   "outputs": [
    {
     "name": "stdout",
     "output_type": "stream",
     "text": [
      "[0]\n",
      "[1]\n",
      "[2, 3, 4]\n",
      "[3, 4]\n",
      "[4]\n",
      "[5, 7, 9]\n",
      "[6, 8, 10, 13, 16]\n",
      "[7, 9]\n",
      "[8, 10, 13, 16]\n",
      "[9]\n",
      "[10, 13, 16]\n",
      "[11, 14, 17, 21, 25]\n",
      "[12, 15, 18, 22, 26, 31, 36]\n",
      "[13, 16]\n",
      "[14, 17, 21, 25]\n",
      "[15, 18, 22, 26, 31, 36]\n",
      "[16]\n",
      "[17, 21, 25]\n",
      "[18, 22, 26, 31, 36]\n",
      "[19, 23, 27, 32, 37, 43, 49]\n",
      "[20, 24, 28, 33, 38, 44, 50, 57, 64]\n",
      "[21, 25]\n",
      "[22, 26, 31, 36]\n",
      "[23, 27, 32, 37, 43, 49]\n",
      "[24, 28, 33, 38, 44, 50, 57, 64]\n",
      "[25]\n",
      "[26, 31, 36]\n",
      "[27, 32, 37, 43, 49]\n",
      "[28, 33, 38, 44, 50, 57, 64]\n",
      "[29, 34, 39, 45, 51, 58, 65, 73, 81]\n",
      "[30, 35, 40, 46, 52, 59, 66, 74, 82, 91, 100]\n",
      "[31, 36]\n",
      "[32, 37, 43, 49]\n",
      "[33, 38, 44, 50, 57, 64]\n",
      "[34, 39, 45, 51, 58, 65, 73, 81]\n",
      "[35, 40, 46, 52, 59, 66, 74, 82, 91, 100]\n",
      "[36]\n",
      "[37, 43, 49]\n",
      "[38, 44, 50, 57, 64]\n",
      "[39, 45, 51, 58, 65, 73, 81]\n",
      "[40, 46, 52, 59, 66, 74, 82, 91, 100]\n",
      "[41, 47, 53, 60, 67, 75, 83, 92, 101, 111, 121]\n",
      "[42, 48, 54, 61, 68, 76, 84, 93, 102, 112, 122, 133, 144]\n",
      "[43, 49]\n",
      "[44, 50, 57, 64]\n",
      "[45, 51, 58, 65, 73, 81]\n",
      "[46, 52, 59, 66, 74, 82, 91, 100]\n",
      "[47, 53, 60, 67, 75, 83, 92, 101, 111, 121]\n",
      "[48, 54, 61, 68, 76, 84, 93, 102, 112, 122, 133, 144]\n",
      "[49]\n",
      "[50, 57, 64]\n",
      "[51, 58, 65, 73, 81]\n",
      "[52, 59, 66, 74, 82, 91, 100]\n",
      "[53, 60, 67, 75, 83, 92, 101, 111, 121]\n",
      "[54, 61, 68, 76, 84, 93, 102, 112, 122, 133, 144]\n",
      "[55, 62, 69, 77, 85, 94, 103, 113, 123, 134, 145, 157, 169]\n",
      "[56, 63, 70, 78, 86, 95, 104, 114, 124, 135, 146, 158, 170, 183, 196]\n",
      "[57, 64]\n",
      "[58, 65, 73, 81]\n",
      "[59, 66, 74, 82, 91, 100]\n",
      "[60, 67, 75, 83, 92, 101, 111, 121]\n",
      "[61, 68, 76, 84, 93, 102, 112, 122, 133, 144]\n",
      "[62, 69, 77, 85, 94, 103, 113, 123, 134, 145, 157, 169]\n",
      "[63, 70, 78, 86, 95, 104, 114, 124, 135, 146, 158, 170, 183, 196]\n"
     ]
    }
   ],
   "source": [
    "for n in range(64):print(seq(n))"
   ]
  },
  {
   "cell_type": "markdown",
   "metadata": {
    "slideshow": {
     "slide_type": "slide"
    }
   },
   "source": [
    "Claim seems legit. And there is a clear pattern too. :) ...  _Let's try to prove it!_\n",
    "\n",
    "## Rough work\n",
    "\n",
    "Pattern suggests me that this may relate to the fact that,\n",
    "$$1+3+5+\\cdots+(2n-1)=n^2$$\n",
    "> _Perhaps mathematical induction??_\n",
    "\n",
    "Let's consider the sequence $\\{p^2,\\ldots\\}$.\n",
    "\n",
    "[comment]: <> (above ldots because the sequence is infinite)\n",
    "\n",
    "Then next sequence will be,\n",
    "\n",
    "$\\{(p^2+1),(p^2+1)+p,(p^2+1)+p+p=(p+1)^2,\\ldots\\}$\n",
    "\n",
    "> ### Reasoning:\n",
    "\n",
    "> The first term is $p^2+1$, no explanation needed.\n",
    "\n",
    "> The second term is $f(p^2+1)=p^2+1+\\lfloor \\sqrt{p^2+1}\\rfloor$. \n",
    "\n",
    "> #### How to determine $\\lfloor \\sqrt{p^2+1}\\rfloor$?\n",
    "\n",
    "> For $p>0$, $p^2<p^2+1<p^2+1+2p=(p+1)^2$ \n",
    "\n",
    "> So, $\\lfloor \\sqrt{p^2+1}\\rfloor=p$\n",
    "\n",
    "> Then the second term is $p^2+1+p$\n",
    "\n",
    "> Following a similar argument, we can figure out the third term of the sequence to be $(p+1)^2$\n",
    "\n",
    "So now we know that if we assume one sequence to be $\\{p^2,\\ldots\\}$ then the next sequence has a perfect square.\n",
    "\n",
    "> But what about other types of sequences?\n",
    "\n",
    "For example what happens when $n=p^2+2$ where $n$ isn't a perfect square.\n",
    "\n",
    "Let's consider a sequence $\\{a_0,a_1,\\ldots\\}$ where $a_{i+1}=f(a_{i})$ for $i\\in\\mathbb{N}$\n",
    "\n",
    "Let's assume that $\\exists k\\in\\mathbb{N} ~s.t.~a_k=m^2$ where $m\\in\\mathbb{N}$\n",
    "\n",
    "So what about the sequence begins with $a_0+1$ ?\n",
    "\n",
    "Let's say that sequence is $B=\\left\\{b_i|i\\in\\mathbb{N}\\wedge b_0=a_0+1\\wedge b_{i+1}=f(b_i)\\right\\}$\n",
    "\n",
    "There are many cases to consider.\n",
    "\n",
    "### Case 1: $~~ a_0=m^2-1, ~m\\in\\mathbb{N}$\n",
    "\n",
    "In this case we don't have to worry because $b_0=a_0+1=(m^2-1)+1=m^2$. _Case closed_ ;)\n",
    "\n",
    "### Case 2: _otherwise_\n",
    "\n",
    "> Remember that we have already done the case where $a_0=m^2$ for some $m\\in\\mathbb{N}$\n",
    "\n",
    "Now $b_0=a_0+1$. What would be $b_1$? Would it be $a_1+1$ or otherwise?\n",
    "\n",
    "I think it is easy to think about $a_0$ as something like $m^2+k$ where $m^2<a_0<(m+1)^2$ i.e. $\\lfloor\\sqrt{a_0}\\rfloor=m\\Rightarrow a_1=f(a_0)=a_0+m$.\n",
    "\n",
    "> **Sidenote**: Should  this be a lemma in our proof? \n",
    "\n",
    "> $m^2<a_0<(m+1)^2\\Rightarrow\\lfloor\\sqrt{a_0}\\rfloor=m$\n",
    "\n",
    "> If it comes frequently, I think we should consider about it.\n",
    "\n",
    "Here $0<k<2m+1$ (Actually $k<2m$ because we have already cased $a_0=m^2-1$, but no problem). Would this help us to determine $b_1$?\n",
    "\n",
    "Now we know that $a_1=m^2+k+m$. There are 3 cases with regard to $a_1$:\n",
    "\n",
    "* $m^2<a_1<(m+1)^2$\n",
    "* $a_1=(m+1)^2$\n",
    "* $(m+1)^2<a_1<(m+2)^2$\n",
    "\n",
    "We can say that $a_1$ doesn't exceed or equal to $(m+2)^2$ because $a_1=m^2+k+m<m^2+(2m+1)+m<(m+2)^2$\n",
    "\n",
    "\n",
    "We know $b_0$ is not a perfect square for sure. So $b_1=f(b_0)=b_0+m$.\n",
    "\n",
    "This implies that $b_1=a_1+1$"
   ]
  }
 ],
 "metadata": {
  "kernelspec": {
   "display_name": "Python 2",
   "language": "python",
   "name": "python2"
  },
  "language_info": {
   "codemirror_mode": {
    "name": "ipython",
    "version": 2
   },
   "file_extension": ".py",
   "mimetype": "text/x-python",
   "name": "python",
   "nbconvert_exporter": "python",
   "pygments_lexer": "ipython2",
   "version": "2.7.13"
  }
 },
 "nbformat": 4,
 "nbformat_minor": 2
}
