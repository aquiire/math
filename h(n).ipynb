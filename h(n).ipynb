{
 "cells": [
  {
   "cell_type": "code",
   "execution_count": 4,
   "metadata": {
    "collapsed": true
   },
   "outputs": [],
   "source": [
    "import matplotlib.pyplot as plt\n",
    "import numpy as np"
   ]
  },
  {
   "cell_type": "code",
   "execution_count": 10,
   "metadata": {},
   "outputs": [],
   "source": [
    "def gcd(a,b):\n",
    "    while b!=0:\n",
    "        t = b\n",
    "        b = a%b\n",
    "        a = t\n",
    "    return a\n",
    "  \n",
    "def phi(n):\n",
    "    counter = 0\n",
    "    for i in range(1,n,1):\n",
    "        if gcd(i,n)==1:\n",
    "            counter +=1\n",
    "    return counter\n",
    "\n",
    "def indicator(n,k):\n",
    "    if phi(k)==0:return 0\n",
    "    if n%phi(k):\n",
    "        return 0\n",
    "    return 1\n",
    "\n",
    "def h(n):\n",
    "    counter = 0\n",
    "    for k in range(1,n,1):\n",
    "        counter += indicator(n,k)\n",
    "    return counter\n",
    "\n",
    "def tau(n):\n",
    "    counter = 0\n",
    "    for i in range(1,n,1):\n",
    "        if n%i==0:\n",
    "            counter += 1\n",
    "    return counter"
   ]
  },
  {
   "cell_type": "markdown",
   "metadata": {},
   "source": [
    "Let's see how $\\phi(n)$ behaves"
   ]
  },
  {
   "cell_type": "code",
   "execution_count": 24,
   "metadata": {},
   "outputs": [
    {
     "data": {
      "image/png": "[encoded data removed]",
      "text/plain": [
       "<matplotlib.figure.Figure at 0x7f475e4eda50>"
      ]
     },
     "metadata": {},
     "output_type": "display_data"
    }
   ],
   "source": [
    "N = np.arange(1,10,1)\n",
    "phi_vec = np.vectorize(phi)\n",
    "PHI = phi_vec(N)\n",
    "plt.scatter(N,PHI,alpha=0.5)\n",
    "plt.xlabel('n')\n",
    "plt.ylabel('$\\phi(n)$')\n",
    "plt.show()"
   ]
  },
  {
   "cell_type": "markdown",
   "metadata": {},
   "source": [
    "What we are interested in is the bottom part of that cluster."
   ]
  },
  {
   "cell_type": "markdown",
   "metadata": {},
   "source": [
    "Let's draw the line connecting bottom part of that triangle like thing."
   ]
  },
  {
   "cell_type": "code",
   "execution_count": null,
   "metadata": {
    "collapsed": true
   },
   "outputs": [],
   "source": []
  }
 ],
 "metadata": {
  "kernelspec": {
   "display_name": "Python 2",
   "language": "python",
   "name": "python2"
  },
  "language_info": {
   "codemirror_mode": {
    "name": "ipython",
    "version": 2
   },
   "file_extension": ".py",
   "mimetype": "text/x-python",
   "name": "python",
   "nbconvert_exporter": "python",
   "pygments_lexer": "ipython2",
   "version": "2.7.12"
  }
 },
 "nbformat": 4,
 "nbformat_minor": 2
}
